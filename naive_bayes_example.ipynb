{
  "nbformat": 4,
  "nbformat_minor": 0,
  "metadata": {
    "colab": {
      "name": "naive_bayes_example.ipynb",
      "provenance": [],
      "authorship_tag": "ABX9TyNpwLTYnIPgh3fd7oA+x5M9",
      "include_colab_link": true
    },
    "kernelspec": {
      "name": "python3",
      "display_name": "Python 3"
    }
  },
  "cells": [
    {
      "cell_type": "markdown",
      "metadata": {
        "id": "view-in-github",
        "colab_type": "text"
      },
      "source": [
        "<a href=\"https://colab.research.google.com/github/bluewink/dataQualityClassifier/blob/master/naive_bayes_example.ipynb\" target=\"_parent\"><img src=\"https://colab.research.google.com/assets/colab-badge.svg\" alt=\"Open In Colab\"/></a>"
      ]
    },
    {
      "cell_type": "code",
      "metadata": {
        "id": "g-2ndSaWp_Vy",
        "colab_type": "code",
        "colab": {}
      },
      "source": [
        "#!tar -xvf enron1.tar.gz"
      ],
      "execution_count": 33,
      "outputs": []
    },
    {
      "cell_type": "code",
      "metadata": {
        "id": "6rydlX_x1xmv",
        "colab_type": "code",
        "colab": {
          "base_uri": "https://localhost:8080/",
          "height": 36
        },
        "outputId": "50336a27-5689-4409-9ba6-967dd7b8da75"
      },
      "source": [
        "import os\n",
        "import glob\n",
        "import pandas as pd\n",
        "import numpy as np\n",
        "import matplotlib.pyplot as plt\n",
        "%matplotlib inline\n",
        "\n",
        "emails, labels = [], []\n",
        "\n",
        "paths= ['enron1/spam/', 'enron1/ham/']\n",
        "#glob를 이용해 각각의 파일을 읽어, 읽어온 것을 email에 집어 넣는다.\n",
        "for path in paths:\n",
        "  for filename in glob.glob(os.path.join(path, '*.txt')):\n",
        "    with open(filename, 'r', encoding= 'ISO-8859-1') as file:\n",
        "      emails.append(file.read())\n",
        "      if path.endswith(\"spam/\"): #path가 spam/로 끝나면\n",
        "        labels.append(1)        #spam을 의미하는 1을 저장.\n",
        "      else:\n",
        "        labels.append(0)     #ham은 0을 저장\n",
        "print(np.unique(labels, return_counts=True))\n",
        "#빈도표를 만들어 준다.\n",
        "#ham file, spam file 개수 확인"
      ],
      "execution_count": 34,
      "outputs": [
        {
          "output_type": "stream",
          "text": [
            "(array([0, 1]), array([3672, 1500]))\n"
          ],
          "name": "stdout"
        }
      ]
    },
    {
      "cell_type": "code",
      "metadata": {
        "id": "DmN7tAPMBHef",
        "colab_type": "code",
        "colab": {
          "base_uri": "https://localhost:8080/",
          "height": 130
        },
        "outputId": "09a24262-7bee-40f4-adef-4b5dba274677"
      },
      "source": [
        "#숫자, 구두점, 사람 이름 제거 (불용어 제거)\n",
        "#nltk natural language tool kit\n",
        "import nltk\n",
        "nltk.download('names')\n",
        "#이름과 관련된 정보\n",
        "nltk.download('wordnet')\n",
        "#wordnet : 영어 단어 목록. 자연어 처리에 특화\n",
        "\n",
        "#corpus : 말뭉치.\n",
        "from nltk.corpus import names\n",
        "from nltk.stem import WordNetLemmatizer\n",
        "#lemmatizer : 단어 분류기\n",
        "\n",
        "all_names = set(names.words())\n",
        "#names에 있는 단어를 all_names에 저장.\n",
        "lemmatizer = WordNetLemmatizer()\n",
        "#lenmatizer : 워드넷에 있는 분류기\n",
        "\n",
        "cleaned_emails =[]\n",
        "\n",
        "#클리닝 작업\n",
        "#소문자로 바꿔서 스플릿 한 이후 문자이고, all_names\n",
        "#email에 한 문서가 있고 거기에 단어가 쭉 들어간다.\n",
        "for email in emails:\n",
        "    cleaned_emails.append(' '.join([lemmatizer.lemmatize(word.lower())\n",
        "                                        for word in email.split()\n",
        "                                        if word.isalpha()\n",
        "                                        and word not in all_names]))\n",
        "\n",
        "#list compression. : 1. email에서 split(), 이를 word라는 변수에 저장.\n",
        "# word가 문자이면서, word가 all_names에 없는 단어(사람 이름 제거)들을 \n",
        "# lower case로 바꿔서 lemmatizer 함수에 적용.\n",
        "# 적용한 결과를 cleaned_email에 집어 넣는다.\n",
        "\n",
        "print(cleaned_emails[0])\n",
        "#소문자로 바뀌어 단어(특히 어근)만 남은 것을 확인할 수 있음.\n"
      ],
      "execution_count": 35,
      "outputs": [
        {
          "output_type": "stream",
          "text": [
            "[nltk_data] Downloading package names to /root/nltk_data...\n",
            "[nltk_data]   Package names is already up-to-date!\n",
            "[nltk_data] Downloading package wordnet to /root/nltk_data...\n",
            "[nltk_data]   Package wordnet is already up-to-date!\n",
            "re final notice v hi again i sent you an email last week and need to confirm everything now please read info below and let me know if you have any question we are accepting your mo rtgage application if you have poor cr edit it is ok you can get a loa n for month payment appr oval process will take minute just visit the link below and fill short form http gffefv net azwml sincerely manager geoffrey winston heritage financing\n"
          ],
          "name": "stdout"
        }
      ]
    },
    {
      "cell_type": "code",
      "metadata": {
        "id": "ZzpYVFkAB2DV",
        "colab_type": "code",
        "colab": {}
      },
      "source": [
        "from sklearn.feature_extraction.text import CountVectorizer\n",
        "\n",
        "#count vectorizer : 단어 출현 빈도와 관련돼 있는 작업을 수행해주는 특징 변환기\n",
        "vectorizer = CountVectorizer(stop_words=\"english\", max_features=500)\n",
        "#vectorizer를 인스턴스로 만들기.\n",
        "'''\n",
        "CountVectorizer:\n",
        "문서 집합에서 단어 토큰을 생성하고 각 단어의 수를 세어 BOW 인코딩한 벡터를 만든다.\n",
        "\n",
        "CountVectorizer는 다음과 같은 세가지 작업을 수행한다.\n",
        "1. 문서를 토큰 리스트로 변환한다.\n",
        "2. 각 문서에서 토큰의 출현 빈도를 센다.\n",
        "3. 각 문서를 BOW 인코딩 벡터로 변환한다.\n",
        "\n",
        "BOW 방법에서는 전체 문서  {d1,d2,…,dn}  를 구성하는 고정된 단어장(vocabulary)  {t1,t2,…,tm}  를 만들고 \n",
        " di 라는 개별 문서에 단어장에 해당하는 단어들이 포함되어 있는지를 표시하는 방법이다.\n",
        "x(i,j) =\n",
        "문서 di내의 단어 tj의 출현 빈도\n",
        "또는\n",
        "x(i,j)={0 :만약 단어 tj가 문서 di 안에 없으면\n",
        "        1 : 만약 단어 tj가 문서 di 안에 있으면}\n",
        "\n",
        "\n",
        "'''\n",
        "'''\n",
        "변환만을 생각한다면 fit() , transform()을 함께 사용하지 않고 transform()만 사용하면 될텐데 \n",
        "두개 메소드를 함께 사용하는 이유가 아래와 같이 있을 거라 추정됩니다(이 중 두번째 이유가 중요합니다. )\n",
        "\n",
        "1. 사이킷런의 지도학습의 주요 메소드인 fit()과 predict()와 비슷한 API로 사용자들의 보다 쉬운 이해를 돕기 위해서.\n",
        "\n",
        "2. 학습데이터 세트에서 변환을 위한 기반 설정(예를 들어 학습 데이터 세트의 최대값/최소값등)을 먼저 fit()을 통해서 설정한 뒤에\n",
        " 이를 기반으로 학습 데이터의 transform()을 수행하되 학습 데이터에서 설정된 변환을 위한 기반 설정을 그대로 테스트 데이터에도 적용하기 위해서입니다.\n",
        "\n",
        "즉 학습 데이터 세트로 fit() 된 Scaler를 이용하여 테스트 데이터를 변환할 경우에는  테스트 데이터에서 \n",
        "다시 fit()하지 않고 반드시 그대로 이 Scaler를 이용하여 transform()을 수행해야 합니다.\n",
        "'''\n",
        "\n",
        "term_docs = vectorizer.fit_transform(cleaned_emails)\n",
        "#vectorizer로 fit transform\n",
        "#print(term_docs)\n",
        "#term_docs : sparse matrix로 구성. 행, 열로 된 위치 정보.\n",
        "# get feature names라는 vectorize의 메소드를 이용하면 텍스트 복원 가능\n",
        "\n",
        "feature_names = vectorizer.get_feature_names()\n",
        "#feature_names\n",
        "#우리가 사용하는 column의 이름들."
      ],
      "execution_count": 36,
      "outputs": []
    },
    {
      "cell_type": "code",
      "metadata": {
        "id": "H5i8F2buB44M",
        "colab_type": "code",
        "colab": {}
      },
      "source": [
        "#훈련 데이터와 테스트 데이터의 분리 및 변환\n",
        "\n",
        "from sklearn.model_selection import train_test_split\n",
        "x_train, x_test, y_train, y_test = train_test_split(cleaned_emails, labels, test_size = 0.3, random_state=35)\n",
        "#30%로 테스트, 70%로 훈련.\n",
        "\n",
        "#cleaned_email : 특징 벡터 (x) , labels: y ==> ham 인지 spam인지. 정답.\n",
        "\n",
        "#훈련용 -> fit_transform\n",
        "term_docs_train = vectorizer.fit_transform(x_train)\n",
        "#테스트용 -> transform\n",
        "term_docs_test = vectorizer.transform(x_test)\n",
        "#학습 이전에 벡터로 변환. vectorizer를 이용해 encoding\n",
        "#test 용 데이터는 적합화(fit) 필요 없이 transform만 적용."
      ],
      "execution_count": 37,
      "outputs": []
    },
    {
      "cell_type": "code",
      "metadata": {
        "id": "En63bjuqCf2d",
        "colab_type": "code",
        "colab": {
          "base_uri": "https://localhost:8080/",
          "height": 54
        },
        "outputId": "259d562b-6365-4463-c499-5c11d54a370f"
      },
      "source": [
        "\n",
        "#모델의 성능 측정 : 정확도, AUC\n",
        "#MultinomialNB : 다항 분포 나이브베이즈 모델\n",
        "#Naive Bayes classifier for multinomial models\n",
        "from sklearn.naive_bayes import MultinomialNB\n",
        "naive_bayes = MultinomialNB(alpha=1, fit_prior=True)\n",
        "#인스턴스 생성 \n",
        "naive_bayes.fit(term_docs_train, y_train)\n",
        "#피팅하기\n",
        "\n",
        "# .predict(X)\n",
        "# : Perform classification on an array of test vectors X.\n",
        "y_pred = naive_bayes.predict(term_docs_test)\n",
        "print(y_pred)\n",
        "#Returns\n",
        "#Predicted target values for X\n",
        "#score : Return the mean accuracy on the given test data and labels.\n",
        "naive_bayes.score(term_docs_test, y_test)"
      ],
      "execution_count": 38,
      "outputs": [
        {
          "output_type": "stream",
          "text": [
            "[0 0 0 ... 0 0 1]\n"
          ],
          "name": "stdout"
        },
        {
          "output_type": "execute_result",
          "data": {
            "text/plain": [
              "0.9143041237113402"
            ]
          },
          "metadata": {
            "tags": []
          },
          "execution_count": 38
        }
      ]
    },
    {
      "cell_type": "code",
      "metadata": {
        "id": "001IvIBWQIJn",
        "colab_type": "code",
        "colab": {}
      },
      "source": [
        "y_pred_proba = naive_bayes.predict_proba(term_docs_test)\n",
        "#확률 담기"
      ],
      "execution_count": 39,
      "outputs": []
    },
    {
      "cell_type": "code",
      "metadata": {
        "id": "9O-1WCLNQS9N",
        "colab_type": "code",
        "colab": {}
      },
      "source": [
        "from sklearn.metrics import roc_curve, roc_auc_score"
      ],
      "execution_count": 40,
      "outputs": []
    },
    {
      "cell_type": "code",
      "metadata": {
        "id": "IbhFKWgTQWx6",
        "colab_type": "code",
        "colab": {
          "base_uri": "https://localhost:8080/",
          "height": 313
        },
        "outputId": "5366b9dd-b49b-4d4d-efbe-dc4147ad3f2f"
      },
      "source": [
        "'''\n",
        "AUC\n",
        ": It tells how much model is capable of distinguishing between classes.\n",
        " Higher the AUC, better the model is at predicting 0s as 0s and 1s as 1s. \n",
        "'''\n",
        "\n",
        "\n",
        "fpr, tpr , _ = roc_curve(y_test, y_pred_proba[:, 1])\n",
        "auc = roc_auc_score(y_test, y_pred_proba[:, 1])\n",
        "plt.plot(fpr, tpr, \"r-\", label=\"MultinomialNB\")\n",
        "plt.plot([0,1], [0,1], \"b-\", label=\"random guessing\")\n",
        "plt.title(\"AUC={:.4f}\".format(auc))\n",
        "plt.xlabel(\"fpr\")\n",
        "plt.ylabel(\"tpr\")\n",
        "plt.legend()"
      ],
      "execution_count": 41,
      "outputs": [
        {
          "output_type": "execute_result",
          "data": {
            "text/plain": [
              "<matplotlib.legend.Legend at 0x7f9bcdefd780>"
            ]
          },
          "metadata": {
            "tags": []
          },
          "execution_count": 41
        },
        {
          "output_type": "display_data",
          "data": {
            "image/png": "[encoded data removed]",
            "text/plain": [
              "<Figure size 432x288 with 1 Axes>"
            ]
          },
          "metadata": {
            "tags": [],
            "needs_background": "light"
          }
        }
      ]
    },
    {
      "cell_type": "code",
      "metadata": {
        "id": "UQovacVRR8h3",
        "colab_type": "code",
        "colab": {}
      },
      "source": [
        ""
      ],
      "execution_count": 41,
      "outputs": []
    },
    {
      "cell_type": "code",
      "metadata": {
        "id": "ztk93N85RPau",
        "colab_type": "code",
        "colab": {}
      },
      "source": [
        "#최적의 예측기 만들기\n",
        "from sklearn.model_selection import GridSearchCV"
      ],
      "execution_count": 42,
      "outputs": []
    },
    {
      "cell_type": "code",
      "metadata": {
        "id": "UcmeTS5uRUOT",
        "colab_type": "code",
        "colab": {}
      },
      "source": [
        "parameters = {\n",
        "    \"alpha\": [0.5,1.0,1.5,2.0],\n",
        "    \"fit_prior\": [True,False]\n",
        "}"
      ],
      "execution_count": 43,
      "outputs": []
    },
    {
      "cell_type": "code",
      "metadata": {
        "id": "w3S4on7qRaSW",
        "colab_type": "code",
        "colab": {}
      },
      "source": [
        "grid_search = GridSearchCV(naive_bayes, parameters, n_jobs=-1,cv=10, scoring= \"roc_auc\")"
      ],
      "execution_count": 44,
      "outputs": []
    },
    {
      "cell_type": "code",
      "metadata": {
        "id": "KzZIWDgpRlyN",
        "colab_type": "code",
        "colab": {
          "base_uri": "https://localhost:8080/",
          "height": 147
        },
        "outputId": "372612d4-0be8-41e3-9248-7adbe7d9e1f2"
      },
      "source": [
        "grid_search.fit(term_docs_train, y_train)"
      ],
      "execution_count": 45,
      "outputs": [
        {
          "output_type": "execute_result",
          "data": {
            "text/plain": [
              "GridSearchCV(cv=10, error_score=nan,\n",
              "             estimator=MultinomialNB(alpha=1, class_prior=None, fit_prior=True),\n",
              "             iid='deprecated', n_jobs=-1,\n",
              "             param_grid={'alpha': [0.5, 1.0, 1.5, 2.0],\n",
              "                         'fit_prior': [True, False]},\n",
              "             pre_dispatch='2*n_jobs', refit=True, return_train_score=False,\n",
              "             scoring='roc_auc', verbose=0)"
            ]
          },
          "metadata": {
            "tags": []
          },
          "execution_count": 45
        }
      ]
    },
    {
      "cell_type": "code",
      "metadata": {
        "id": "HUYYzvoYRqFd",
        "colab_type": "code",
        "colab": {
          "base_uri": "https://localhost:8080/",
          "height": 36
        },
        "outputId": "afdff95b-c152-4bb5-8847-d38bcad10513"
      },
      "source": [
        "grid_search.best_params_"
      ],
      "execution_count": 46,
      "outputs": [
        {
          "output_type": "execute_result",
          "data": {
            "text/plain": [
              "{'alpha': 0.5, 'fit_prior': True}"
            ]
          },
          "metadata": {
            "tags": []
          },
          "execution_count": 46
        }
      ]
    },
    {
      "cell_type": "code",
      "metadata": {
        "id": "8W1oBP56RtPj",
        "colab_type": "code",
        "colab": {}
      },
      "source": [
        "naive_bayes_best = grid_search.best_estimator_"
      ],
      "execution_count": 47,
      "outputs": []
    },
    {
      "cell_type": "code",
      "metadata": {
        "id": "B_pcc_hARy4b",
        "colab_type": "code",
        "colab": {
          "base_uri": "https://localhost:8080/",
          "height": 147
        },
        "outputId": "2ec6bf26-3594-4981-8e34-cbbe0b68887d"
      },
      "source": [
        "y_pred_proba = naive_bayes_best.predict_proba(term_docs_test)\n",
        "y_pred_proba\n",
        "#튜닝하고나서 사용하려면 y_pred_proba가 갱신되어야 함."
      ],
      "execution_count": 48,
      "outputs": [
        {
          "output_type": "execute_result",
          "data": {
            "text/plain": [
              "array([[1.00000000e+00, 2.83111660e-24],\n",
              "       [9.99999968e-01, 3.22371705e-08],\n",
              "       [1.00000000e+00, 1.17905937e-41],\n",
              "       ...,\n",
              "       [1.00000000e+00, 4.30217251e-16],\n",
              "       [1.00000000e+00, 1.17905937e-41],\n",
              "       [3.03093084e-04, 9.99696907e-01]])"
            ]
          },
          "metadata": {
            "tags": []
          },
          "execution_count": 48
        }
      ]
    },
    {
      "cell_type": "code",
      "metadata": {
        "id": "07m-QE60R9uZ",
        "colab_type": "code",
        "colab": {
          "base_uri": "https://localhost:8080/",
          "height": 313
        },
        "outputId": "128ee93a-5baa-47b9-fe65-bb6c25743f1f"
      },
      "source": [
        "fpr, tpr , _ = roc_curve(y_test, y_pred_proba[:, 1])\n",
        "auc = roc_auc_score(y_test, y_pred_proba[:, 1])\n",
        "plt.plot(fpr, tpr, \"r-\", label=\"MultinomialNB\")\n",
        "plt.plot([0,1], [0,1], \"b-\", label=\"random guessing\")\n",
        "plt.title(\"AUC={:.4f}\".format(auc))\n",
        "plt.xlabel(\"fpr\")\n",
        "plt.ylabel(\"tpr\")\n",
        "plt.legend()"
      ],
      "execution_count": 49,
      "outputs": [
        {
          "output_type": "execute_result",
          "data": {
            "text/plain": [
              "<matplotlib.legend.Legend at 0x7f9bcdf4f438>"
            ]
          },
          "metadata": {
            "tags": []
          },
          "execution_count": 49
        },
        {
          "output_type": "display_data",
          "data": {
            "image/png": "[encoded data removed]",
            "text/plain": [
              "<Figure size 432x288 with 1 Axes>"
            ]
          },
          "metadata": {
            "tags": [],
            "needs_background": "light"
          }
        }
      ]
    }
  ]
}