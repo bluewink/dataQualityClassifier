{
  "nbformat": 4,
  "nbformat_minor": 0,
  "metadata": {
    "colab": {
      "name": "머신러닝_decision tree.ipynb의 사본",
      "provenance": [],
      "collapsed_sections": [],
      "include_colab_link": true
    },
    "kernelspec": {
      "name": "python3",
      "display_name": "Python 3"
    }
  },
  "cells": [
    {
      "cell_type": "markdown",
      "metadata": {
        "id": "view-in-github",
        "colab_type": "text"
      },
      "source": [
        "<a href=\"https://colab.research.google.com/github/bluewink/dataQualityClassifier/blob/master/algorithm_test.ipynb\" target=\"_parent\"><img src=\"https://colab.research.google.com/assets/colab-badge.svg\" alt=\"Open In Colab\"/></a>"
      ]
    },
    {
      "cell_type": "code",
      "metadata": {
        "id": "wHRBBMzjjL3A"
      },
      "source": [
        "from sklearn.datasets import load_iris\n",
        "from sklearn.model_selection import train_test_split\n",
        "from sklearn.tree import DecisionTreeClassifier\n",
        "import matplotlib.pyplot as plt\n",
        "import numpy as np\n",
        "from sklearn.ensemble import RandomForestClassifier\n",
        "import xlrd\n",
        "import pandas as pd"
      ],
      "execution_count": null,
      "outputs": []
    },
    {
      "cell_type": "code",
      "metadata": {
        "id": "yQej-hKj--I3",
        "outputId": "86eb1589-9966-4f7e-e845-5187366f8ed6",
        "colab": {
          "base_uri": "https://localhost:8080/",
          "height": 1000
        }
      },
      "source": [
        "x = pd.read_csv(\"/home/x인자.csv\", encoding='CP949', index_col='단어')\n",
        "# print(x)\n",
        "y = pd.read_excel(\"/home/y인자.xlsx\", sheet_name=\"Sheet1\")\n",
        "# x1 = pd.DataFrame(x, columns = ['consonant_con', 'vowel_con', 'spec_con', 'word_len', 'num_con'])\n",
        "# # r = pd.DataFrame(y, columns = ['class'])\n",
        "print(x)\n",
        "print(y)\n",
        "# print(r)"
      ],
      "execution_count": null,
      "outputs": [
        {
          "output_type": "stream",
          "text": [
            "                                                    띄어쓰기  단모음단자음  ...  숫자  특수문자\n",
            "단어                                                                ...          \n",
            "comments                                               0       0  ...   0     0\n",
            "9월백신출시~~현실이 되면 좋겠네요~~                                  2       0  ...   1     4\n",
            "영국이 대단한게 자국백신도 계약하고 다른니라 제약회사도 선제적으로 계약하고 있다. 우...    16       0  ...   0     2\n",
            "WHO말은 이제 신뢰할수 없어                                       3       0  ...   0     0\n",
            "옥스퍼드대랑 벡시텤이라는 회사 합작품인데 진매트릭스가 벡시텍 지분6프로 가지고잇다          7       0  ...   1     0\n",
            "와우 과거와같은생활 마스크없는생활 현실이겠죠^^                             3       0  ...   0     2\n",
            "문재인 변호사는 중국 백신 기다리고 계약하는거 아닌지 모르겠네요                    7       0  ...   0     0\n",
            "백신성공 축하합니다. 그백신 우한폐렴 퍼트린 중국에는 절대로 팔지 마세요~              8       0  ...   0     1\n",
            "제발 누구라도 빨리 만들었으면 좋겠다 ㅠ 정말 사는게 아닌거 같다                   9       1  ...   0     0\n",
            "결국은 기술력이다. 생존은 기술에 따라 달린 것이다. 단기적으로 전염병을 막는 백신을...    52       0  ...  12     0\n",
            "한국의 빈수레는 요란하다. 문재앙 닮아서                                 4       0  ...   0     0\n",
            "영국도 반중이니까 친중좌파놈들은 처맞지말고 중국백신나올때까지기다리다 그거처맞어라           5       0  ...   0     0\n",
            "조현병 문 : 어? 이러문 내가 모가돼 훠훠훠                              7       0  ...   0     2\n",
            "WHO 말이라서 못믿겠다                                          2       0  ...   0     0\n",
            "역시옥스포드                                                 0       0  ...   0     0\n",
            "영국 없으면 아직도 소 끌고 다니며 밭이나 갈고 잇겟지 ㅋ                       9       1  ...   0     0\n",
            "빨리 만들자 그리고 끝내자                                         3       0  ...   0     0\n",
            "미국이 빨리 정상화 되서 중공이 ㅈ됐으면 좋겠다.                            6       1  ...   0     0\n",
            "우리나라에선 하고나 있나요? 그냥 집값자느니 어쩌고 저쩌고~~~~ㅉㅉ                 6       2  ...   0     5\n",
            "중공폭격 들어가자                                              1       0  ...   0     0\n",
            "진매트릭스 대박나것네                                            1       0  ...   0     0\n",
            "문신발 투척 good!!                                          2       0  ...   0     2\n",
            "이래서 사람들이 모더나 주식을 내던지는구나....                            4       0  ...   0     0\n",
            "너무 반가운 소식입니다! 코로나 이전의 자유롭게 여행하던 삶으로 너무나 돌아가고 싶습...    11       1  ...   0     5\n",
            "코로나 터지고 백신 말만 많음...배포되고나서 말하자                          5       0  ...   0     0\n",
            "셀트리온 정신나간 넘들                                           2       0  ...   0     0\n",
            "백신이 개발된다 한들 올해 안에 상용화가 가능할지... 부작용 문제가 없었음 좋겠다        10       0  ...   0     0\n",
            "문재앙 진단키트 콜센타는 문닫았냐? 요새 조용하노?                           5       0  ...   0     2\n",
            "유클립투스 오일의 코점막 살균효과, 유산균의 유해균살균 효과, 쑥연기의 공기살균효과 ...    14       0  ...   0     0\n",
            "코로나 백신 조만간 나오겠네요                                       3       0  ...   0     0\n",
            "백신장사꾼 빌 게이츠가 가만히 보고 있을까? 글고 COVID19는 계속 변이한다더만...      9       0  ...   2     1\n",
            "주식시장에서 SK케미칼 차트 잘 보세요.                                 4       0  ...   0     0\n",
            "전 세계가 백신개발을 위해 노력하고 있네요. 우리나라도 하루 빨리 백신이 개발되었으면...    17       0  ...   0     0\n",
            "북한보다 느리네ㅎ                                              1       1  ...   0     0\n",
            "한국의 제약. 바이오사 시끄럽기나 했지.백신. 치료제는 별거 없나보네.                7       0  ...   0     0\n",
            "중국 놈들 뭘 만들다 샌 것이더냐?                                    5       0  ...   0     1\n",
            "제발 누구든 성공하길~~                                          2       0  ...   0     2\n",
            "임상실험 100퍼센트? 설마 진짜일까?                                  3       0  ...   3     2\n",
            "셀트리온 개망이네..                                            1       0  ...   0     0\n",
            "셀트리온은 머하고 있나                                           2       0  ...   0     0\n",
            "파미셀에 뉴클레오시드와 관련이 돼있는걸로 아는데 맞는지요? 누가 대답좀 부탁드려요 뉴...    11       0  ...   2     1\n",
            "한국에서는 안돼겠지?돼더라도 걱정이다..문재인 자기가만든것처럼 선전할꺼니..ㅠ            4       1  ...   0     1\n",
            "빨리좀개발해라.....그것도싸게개발해서. 좀버습해줘라....불안불편그리고삶의의역상싱등...     1       0  ...   0     0\n",
            "역시 영국이 백신은 세계 최고다..                                    4       0  ...   0     0\n",
            "영국 마스크도 안쓰고 요즘도 확진자 500 - 800명대라 답없다 생각했는데 이런걸 ...    19       0  ...   6     1\n",
            "발효잘된 김칫국물로 링겔 맞는게 차라리 효과만점일지도..                        5       0  ...   0     0\n",
            "우리나라 뭐하냐 세계에서 제일 머리좋은 민족이 왜 머리를 안씀                     8       0  ...   0     0\n",
            "희망고문 하지마라. 백신은 솔직히 나오기 힘들다. 메르스,사스도 백신없다. 변이가 계...    62       0  ...   0     5\n",
            "머카노 셀트리온이 젤압서있는데 노벨의학상은 따논 당상임 화이팅 조선                  7       0  ...   0     0\n",
            "건강한 사람 80%는 무증상.. 유증상 중 80%는 1~2주 안에 치료없이 완쾌된다....    13       0  ...   6     9\n",
            "\n",
            "[50 rows x 6 columns]\n",
            "    오류여부\n",
            "0      0\n",
            "1      0\n",
            "2      0\n",
            "3      0\n",
            "4      1\n",
            "5      1\n",
            "6      0\n",
            "7      1\n",
            "8      1\n",
            "9      0\n",
            "10     0\n",
            "11     1\n",
            "12     0\n",
            "13     0\n",
            "14     0\n",
            "15     1\n",
            "16     0\n",
            "17     1\n",
            "18     1\n",
            "19     0\n",
            "20     1\n",
            "21     0\n",
            "22     0\n",
            "23     1\n",
            "24     0\n",
            "25     0\n",
            "26     0\n",
            "27     0\n",
            "28     0\n",
            "29     0\n",
            "30     0\n",
            "31     0\n",
            "32     0\n",
            "33     1\n",
            "34     0\n",
            "35     0\n",
            "36     1\n",
            "37     0\n",
            "38     0\n",
            "39     0\n",
            "40     0\n",
            "41     1\n",
            "42     1\n",
            "43     0\n",
            "44     0\n",
            "45     0\n",
            "46     0\n",
            "47     0\n",
            "48     1\n",
            "49     0\n"
          ],
          "name": "stdout"
        }
      ]
    },
    {
      "cell_type": "code",
      "metadata": {
        "id": "w1iERZIoGAl0",
        "outputId": "1da0efc6-0355-4fa0-d44f-8152c1c50bc1",
        "colab": {
          "base_uri": "https://localhost:8080/",
          "height": 652
        }
      },
      "source": [
        "x_train, x_test, y_train, y_test = train_test_split(x,y, test_size=0.6, random_state=5) #테스트셋, train셋 분류\n",
        "y_train = y_train.values.ravel()\n",
        "\n",
        "model = RandomForestClassifier(n_estimators=2, max_depth=4) \n",
        "model.fit(x_train, y_train)\n",
        "print(x_test)\n",
        "y_pred = model.predict(x_test)"
      ],
      "execution_count": null,
      "outputs": [
        {
          "output_type": "stream",
          "text": [
            "                                                    띄어쓰기  단모음단자음  ...  숫자  특수문자\n",
            "단어                                                                ...          \n",
            "빨리좀개발해라.....그것도싸게개발해서. 좀버습해줘라....불안불편그리고삶의의역상싱등...     1       0  ...   0     0\n",
            "코로나 백신 조만간 나오겠네요                                       3       0  ...   0     0\n",
            "문재인 변호사는 중국 백신 기다리고 계약하는거 아닌지 모르겠네요                    7       0  ...   0     0\n",
            "중공폭격 들어가자                                              1       0  ...   0     0\n",
            "유클립투스 오일의 코점막 살균효과, 유산균의 유해균살균 효과, 쑥연기의 공기살균효과 ...    14       0  ...   0     0\n",
            "미국이 빨리 정상화 되서 중공이 ㅈ됐으면 좋겠다.                            6       1  ...   0     0\n",
            "영국이 대단한게 자국백신도 계약하고 다른니라 제약회사도 선제적으로 계약하고 있다. 우...    16       0  ...   0     2\n",
            "역시 영국이 백신은 세계 최고다..                                    4       0  ...   0     0\n",
            "WHO말은 이제 신뢰할수 없어                                       3       0  ...   0     0\n",
            "문신발 투척 good!!                                          2       0  ...   0     2\n",
            "주식시장에서 SK케미칼 차트 잘 보세요.                                 4       0  ...   0     0\n",
            "옥스퍼드대랑 벡시텤이라는 회사 합작품인데 진매트릭스가 벡시텍 지분6프로 가지고잇다          7       0  ...   1     0\n",
            "전 세계가 백신개발을 위해 노력하고 있네요. 우리나라도 하루 빨리 백신이 개발되었으면...    17       0  ...   0     0\n",
            "comments                                               0       0  ...   0     0\n",
            "너무 반가운 소식입니다! 코로나 이전의 자유롭게 여행하던 삶으로 너무나 돌아가고 싶습...    11       1  ...   0     5\n",
            "와우 과거와같은생활 마스크없는생활 현실이겠죠^^                             3       0  ...   0     2\n",
            "머카노 셀트리온이 젤압서있는데 노벨의학상은 따논 당상임 화이팅 조선                  7       0  ...   0     0\n",
            "한국의 제약. 바이오사 시끄럽기나 했지.백신. 치료제는 별거 없나보네.                7       0  ...   0     0\n",
            "임상실험 100퍼센트? 설마 진짜일까?                                  3       0  ...   3     2\n",
            "백신이 개발된다 한들 올해 안에 상용화가 가능할지... 부작용 문제가 없었음 좋겠다        10       0  ...   0     0\n",
            "한국에서는 안돼겠지?돼더라도 걱정이다..문재인 자기가만든것처럼 선전할꺼니..ㅠ            4       1  ...   0     1\n",
            "북한보다 느리네ㅎ                                              1       1  ...   0     0\n",
            "코로나 터지고 백신 말만 많음...배포되고나서 말하자                          5       0  ...   0     0\n",
            "한국의 빈수레는 요란하다. 문재앙 닮아서                                 4       0  ...   0     0\n",
            "영국 마스크도 안쓰고 요즘도 확진자 500 - 800명대라 답없다 생각했는데 이런걸 ...    19       0  ...   6     1\n",
            "셀트리온 정신나간 넘들                                           2       0  ...   0     0\n",
            "우리나라에선 하고나 있나요? 그냥 집값자느니 어쩌고 저쩌고~~~~ㅉㅉ                 6       2  ...   0     5\n",
            "이래서 사람들이 모더나 주식을 내던지는구나....                            4       0  ...   0     0\n",
            "진매트릭스 대박나것네                                            1       0  ...   0     0\n",
            "건강한 사람 80%는 무증상.. 유증상 중 80%는 1~2주 안에 치료없이 완쾌된다....    13       0  ...   6     9\n",
            "\n",
            "[30 rows x 6 columns]\n"
          ],
          "name": "stdout"
        }
      ]
    },
    {
      "cell_type": "code",
      "metadata": {
        "id": "OjXrd9JfJhN8",
        "outputId": "d8b1de66-5c94-4b38-978f-2bbf7f09f775",
        "colab": {
          "base_uri": "https://localhost:8080/",
          "height": 36
        }
      },
      "source": [
        "model.score(x_test, y_test)\n"
      ],
      "execution_count": null,
      "outputs": [
        {
          "output_type": "execute_result",
          "data": {
            "text/plain": [
              "0.5666666666666667"
            ]
          },
          "metadata": {
            "tags": []
          },
          "execution_count": 54
        }
      ]
    },
    {
      "cell_type": "code",
      "metadata": {
        "id": "rTvi2YXLMdUr",
        "outputId": "71ab637c-5c55-4ce7-bb33-1c0cacdb45ed",
        "colab": {
          "base_uri": "https://localhost:8080/",
          "height": 314
        }
      },
      "source": [
        "\n",
        "from sklearn.metrics import roc_curve, roc_auc_score\n",
        "\n",
        "fpr, tpr , _ = roc_curve(y_test, y_pred)\n",
        "auc = roc_auc_score(y_test, y_pred)\n",
        "plt.plot(fpr, tpr, \"r-\", label=\"DecisionTree\")\n",
        "plt.plot([0,1], [0,1], \"b-\", label=\"random guessing\")\n",
        "plt.title(\"AUC={:.4f}\".format(auc))\n",
        "plt.xlabel(\"fpr\")\n",
        "plt.ylabel(\"tpr\")\n",
        "plt.legend()"
      ],
      "execution_count": null,
      "outputs": [
        {
          "output_type": "execute_result",
          "data": {
            "text/plain": [
              "<matplotlib.legend.Legend at 0x7f6d645c6e80>"
            ]
          },
          "metadata": {
            "tags": []
          },
          "execution_count": 55
        },
        {
          "output_type": "display_data",
          "data": {
            "image/png": "[encoded data removed]",
            "text/plain": [
              "<Figure size 432x288 with 1 Axes>"
            ]
          },
          "metadata": {
            "tags": [],
            "needs_background": "light"
          }
        }
      ]
    },
    {
      "cell_type": "code",
      "metadata": {
        "id": "pgycxpX8l79v",
        "outputId": "b013c656-f38e-434a-ff4f-fe9c580b6012",
        "colab": {
          "base_uri": "https://localhost:8080/",
          "height": 55
        }
      },
      "source": [
        "from sklearn.metrics import confusion_matrix\n",
        "confusion_matrix(y_test,y_pred)"
      ],
      "execution_count": null,
      "outputs": [
        {
          "output_type": "execute_result",
          "data": {
            "text/plain": [
              "array([[13,  7],\n",
              "       [ 6,  4]])"
            ]
          },
          "metadata": {
            "tags": []
          },
          "execution_count": 56
        }
      ]
    }
  ]
}